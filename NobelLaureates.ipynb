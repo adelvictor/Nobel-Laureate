{
 "cells": [
  {
   "cell_type": "code",
   "execution_count": 2,
   "metadata": {},
   "outputs": [],
   "source": [
    "import pandas as pd\n",
    "import matplotlib.pyplot as plt\n",
    "import requests\n",
    "from bs4 import BeautifulSoup"
   ]
  },
  {
   "cell_type": "code",
   "execution_count": 3,
   "metadata": {},
   "outputs": [],
   "source": [
    "wiki_nobel_laureates = requests.get(\"https://en.wikipedia.org/wiki/List_of_Nobel_laureates\")"
   ]
  },
  {
   "cell_type": "code",
   "execution_count": 4,
   "metadata": {},
   "outputs": [
    {
     "name": "stderr",
     "output_type": "stream",
     "text": [
      "C:\\Users\\Adeloye Victor\\AppData\\Local\\Temp\\ipykernel_15660\\3792718324.py:1: FutureWarning: Passing literal html to 'read_html' is deprecated and will be removed in a future version. To read from a literal string, wrap it in a 'StringIO' object.\n",
      "  LaureatesDataFrame = pd.read_html(wiki_nobel_laureates.text)[0][:-1]\n"
     ]
    },
    {
     "data": {
      "text/html": [
       "<div>\n",
       "<style scoped>\n",
       "    .dataframe tbody tr th:only-of-type {\n",
       "        vertical-align: middle;\n",
       "    }\n",
       "\n",
       "    .dataframe tbody tr th {\n",
       "        vertical-align: top;\n",
       "    }\n",
       "\n",
       "    .dataframe thead th {\n",
       "        text-align: right;\n",
       "    }\n",
       "</style>\n",
       "<table border=\"1\" class=\"dataframe\">\n",
       "  <thead>\n",
       "    <tr style=\"text-align: right;\">\n",
       "      <th></th>\n",
       "      <th>Year</th>\n",
       "      <th>Physics</th>\n",
       "      <th>Chemistry</th>\n",
       "      <th>Physiology or Medicine</th>\n",
       "      <th>Literature</th>\n",
       "      <th>Peace</th>\n",
       "      <th>Economics (The Sveriges Riksbank Prize)[13][a]</th>\n",
       "    </tr>\n",
       "  </thead>\n",
       "  <tbody>\n",
       "    <tr>\n",
       "      <th>0</th>\n",
       "      <td>1901</td>\n",
       "      <td>Wilhelm Röntgen</td>\n",
       "      <td>Jacobus Henricus van 't Hoff</td>\n",
       "      <td>Emil von Behring</td>\n",
       "      <td>Sully Prudhomme</td>\n",
       "      <td>Henry Dunant; Frédéric Passy</td>\n",
       "      <td>—</td>\n",
       "    </tr>\n",
       "    <tr>\n",
       "      <th>1</th>\n",
       "      <td>1902</td>\n",
       "      <td>Hendrik Lorentz; Pieter Zeeman</td>\n",
       "      <td>Emil Fischer</td>\n",
       "      <td>Ronald Ross</td>\n",
       "      <td>Theodor Mommsen</td>\n",
       "      <td>Élie Ducommun; Charles Albert Gobat</td>\n",
       "      <td>—</td>\n",
       "    </tr>\n",
       "    <tr>\n",
       "      <th>2</th>\n",
       "      <td>1903</td>\n",
       "      <td>Henri Becquerel; Pierre Curie; Marie Curie</td>\n",
       "      <td>Svante Arrhenius</td>\n",
       "      <td>Niels Ryberg Finsen</td>\n",
       "      <td>Bjørnstjerne Bjørnson</td>\n",
       "      <td>Randal Cremer</td>\n",
       "      <td>—</td>\n",
       "    </tr>\n",
       "    <tr>\n",
       "      <th>3</th>\n",
       "      <td>1904</td>\n",
       "      <td>Lord Rayleigh</td>\n",
       "      <td>William Ramsay</td>\n",
       "      <td>Ivan Pavlov</td>\n",
       "      <td>Frédéric Mistral; José Echegaray</td>\n",
       "      <td>Institut de Droit International</td>\n",
       "      <td>—</td>\n",
       "    </tr>\n",
       "    <tr>\n",
       "      <th>4</th>\n",
       "      <td>1905</td>\n",
       "      <td>Philipp Lenard</td>\n",
       "      <td>Adolf von Baeyer</td>\n",
       "      <td>Robert Koch</td>\n",
       "      <td>Henryk Sienkiewicz</td>\n",
       "      <td>Bertha von Suttner</td>\n",
       "      <td>—</td>\n",
       "    </tr>\n",
       "  </tbody>\n",
       "</table>\n",
       "</div>"
      ],
      "text/plain": [
       "   Year                                     Physics  \\\n",
       "0  1901                             Wilhelm Röntgen   \n",
       "1  1902              Hendrik Lorentz; Pieter Zeeman   \n",
       "2  1903  Henri Becquerel; Pierre Curie; Marie Curie   \n",
       "3  1904                               Lord Rayleigh   \n",
       "4  1905                              Philipp Lenard   \n",
       "\n",
       "                      Chemistry Physiology or Medicine  \\\n",
       "0  Jacobus Henricus van 't Hoff       Emil von Behring   \n",
       "1                  Emil Fischer            Ronald Ross   \n",
       "2              Svante Arrhenius    Niels Ryberg Finsen   \n",
       "3                William Ramsay            Ivan Pavlov   \n",
       "4              Adolf von Baeyer            Robert Koch   \n",
       "\n",
       "                         Literature                                Peace  \\\n",
       "0                   Sully Prudhomme         Henry Dunant; Frédéric Passy   \n",
       "1                   Theodor Mommsen  Élie Ducommun; Charles Albert Gobat   \n",
       "2             Bjørnstjerne Bjørnson                        Randal Cremer   \n",
       "3  Frédéric Mistral; José Echegaray      Institut de Droit International   \n",
       "4                Henryk Sienkiewicz                   Bertha von Suttner   \n",
       "\n",
       "  Economics (The Sveriges Riksbank Prize)[13][a]  \n",
       "0                                              —  \n",
       "1                                              —  \n",
       "2                                              —  \n",
       "3                                              —  \n",
       "4                                              —  "
      ]
     },
     "execution_count": 4,
     "metadata": {},
     "output_type": "execute_result"
    }
   ],
   "source": [
    "LaureatesDataFrame = pd.read_html(wiki_nobel_laureates.text)[0][:-1]\n",
    "LaureatesDataFrame.head()"
   ]
  },
  {
   "cell_type": "code",
   "execution_count": 5,
   "metadata": {},
   "outputs": [],
   "source": [
    "LaureatesDataFrame.columns = LaureatesDataFrame.columns.str.strip().str.lower().str.replace(\" \", \"_\")"
   ]
  },
  {
   "cell_type": "code",
   "execution_count": 6,
   "metadata": {},
   "outputs": [],
   "source": [
    "PhysiologyLaureates = LaureatesDataFrame.physiology_or_medicine.str.split(\";\", expand=True)"
   ]
  },
  {
   "cell_type": "code",
   "execution_count": 7,
   "metadata": {},
   "outputs": [],
   "source": [
    "PhysiologyLaureates[\"year\"] = LaureatesDataFrame.year"
   ]
  },
  {
   "cell_type": "code",
   "execution_count": 8,
   "metadata": {},
   "outputs": [],
   "source": [
    "PhysiologyLaureates = PhysiologyLaureates.set_index(\"year\").stack().reset_index().drop(\"level_1\", axis=\"columns\").rename({0: \"name\"}, axis=\"columns\")"
   ]
  },
  {
   "cell_type": "code",
   "execution_count": 9,
   "metadata": {},
   "outputs": [
    {
     "data": {
      "text/html": [
       "<div>\n",
       "<style scoped>\n",
       "    .dataframe tbody tr th:only-of-type {\n",
       "        vertical-align: middle;\n",
       "    }\n",
       "\n",
       "    .dataframe tbody tr th {\n",
       "        vertical-align: top;\n",
       "    }\n",
       "\n",
       "    .dataframe thead th {\n",
       "        text-align: right;\n",
       "    }\n",
       "</style>\n",
       "<table border=\"1\" class=\"dataframe\">\n",
       "  <thead>\n",
       "    <tr style=\"text-align: right;\">\n",
       "      <th></th>\n",
       "      <th>year</th>\n",
       "      <th>name</th>\n",
       "    </tr>\n",
       "  </thead>\n",
       "  <tbody>\n",
       "    <tr>\n",
       "      <th>0</th>\n",
       "      <td>1901</td>\n",
       "      <td>Emil von Behring</td>\n",
       "    </tr>\n",
       "    <tr>\n",
       "      <th>1</th>\n",
       "      <td>1902</td>\n",
       "      <td>Ronald Ross</td>\n",
       "    </tr>\n",
       "    <tr>\n",
       "      <th>2</th>\n",
       "      <td>1903</td>\n",
       "      <td>Niels Ryberg Finsen</td>\n",
       "    </tr>\n",
       "    <tr>\n",
       "      <th>3</th>\n",
       "      <td>1904</td>\n",
       "      <td>Ivan Pavlov</td>\n",
       "    </tr>\n",
       "    <tr>\n",
       "      <th>4</th>\n",
       "      <td>1905</td>\n",
       "      <td>Robert Koch</td>\n",
       "    </tr>\n",
       "    <tr>\n",
       "      <th>...</th>\n",
       "      <td>...</td>\n",
       "      <td>...</td>\n",
       "    </tr>\n",
       "    <tr>\n",
       "      <th>225</th>\n",
       "      <td>2021</td>\n",
       "      <td>David Julius</td>\n",
       "    </tr>\n",
       "    <tr>\n",
       "      <th>226</th>\n",
       "      <td>2021</td>\n",
       "      <td>Ardem Patapoutian</td>\n",
       "    </tr>\n",
       "    <tr>\n",
       "      <th>227</th>\n",
       "      <td>2022</td>\n",
       "      <td>Svante Pääbo</td>\n",
       "    </tr>\n",
       "    <tr>\n",
       "      <th>228</th>\n",
       "      <td>2023</td>\n",
       "      <td>Katalin Karikó</td>\n",
       "    </tr>\n",
       "    <tr>\n",
       "      <th>229</th>\n",
       "      <td>2023</td>\n",
       "      <td>Drew Weissman</td>\n",
       "    </tr>\n",
       "  </tbody>\n",
       "</table>\n",
       "<p>230 rows × 2 columns</p>\n",
       "</div>"
      ],
      "text/plain": [
       "     year                 name\n",
       "0    1901     Emil von Behring\n",
       "1    1902          Ronald Ross\n",
       "2    1903  Niels Ryberg Finsen\n",
       "3    1904          Ivan Pavlov\n",
       "4    1905          Robert Koch\n",
       "..    ...                  ...\n",
       "225  2021         David Julius\n",
       "226  2021    Ardem Patapoutian\n",
       "227  2022         Svante Pääbo\n",
       "228  2023       Katalin Karikó\n",
       "229  2023        Drew Weissman\n",
       "\n",
       "[230 rows x 2 columns]"
      ]
     },
     "execution_count": 9,
     "metadata": {},
     "output_type": "execute_result"
    }
   ],
   "source": [
    "PhysiologyLaureates"
   ]
  },
  {
   "cell_type": "code",
   "execution_count": 10,
   "metadata": {},
   "outputs": [],
   "source": [
    "wiki_laureates_by_country = requests.get(\"https://en.wikipedia.org/wiki/List_of_Nobel_laureates_by_country\")"
   ]
  },
  {
   "cell_type": "code",
   "execution_count": 11,
   "metadata": {},
   "outputs": [],
   "source": [
    "laureates_soup = BeautifulSoup(wiki_laureates_by_country.text)"
   ]
  },
  {
   "cell_type": "code",
   "execution_count": 12,
   "metadata": {},
   "outputs": [],
   "source": [
    "CountryList = [x.text for x in laureates_soup.find_all(class_=\"mw-headline\") if x.parent.name == \"h3\"]"
   ]
  },
  {
   "cell_type": "code",
   "execution_count": 13,
   "metadata": {},
   "outputs": [],
   "source": [
    "LaureateCountryList = [x.text for x in laureates_soup.find_all(\"ol\", class_=False)]"
   ]
  },
  {
   "cell_type": "code",
   "execution_count": 14,
   "metadata": {},
   "outputs": [
    {
     "data": {
      "text/plain": [
       "[('Argentina',\n",
       "  'César Milstein*, Physiology or Medicine, 1984\\nAdolfo Pérez Esquivel, Peace, 1980\\nLuis Federico Leloir, born in France, Chemistry, 1970\\nBernardo Houssay, Physiology or Medicine, 1947\\nCarlos Saavedra Lamas, Peace, 1936'),\n",
       " ('Armenia',\n",
       "  'Ardem Patapoutian, born in Lebanon, Physiology or Medicine, 2021'),\n",
       " ('Australia',\n",
       "  'Brian Schmidt, born in the United States, Physics, 2011\\nElizabeth Blackburn*, Physiology or Medicine, 2009\\nBarry Marshall, Physiology or Medicine, 2005\\nJ. Robin Warren, Physiology or Medicine, 2005\\nPeter C. Doherty, Physiology or Medicine, 1996\\nRolf Zinkernagel, Physiology or Medicine, 1996\\nJohn Cornforth*, Chemistry, 1975\\nPatrick White, born in the United Kingdom, Literature, 1973\\nAleksandr M. Prokhorov, Physics, 1964\\nJohn Carew Eccles, Physiology or Medicine, 1963\\nSir Frank Macfarlane Burnet, Physiology or Medicine, 1960\\nHoward Florey, Physiology or Medicine, 1945\\nWilliam Lawrence Bragg, Physics, 1915\\nWilliam Henry Bragg, Physics, 1915'),\n",
       " ('Austria',\n",
       "  'Anton Zeilinger, Physics, 2022\\nPeter Handke, Literature, 2019\\nMartin Karplus*, Chemistry, 2013\\nElfriede Jelinek, Literature, 2004\\nEric Kandel*, Physiology or Medicine, 2000\\nWalter Kohn*, Chemistry, 1998\\nFriedrich Hayek, Economics, 1974\\nKonrad Lorenz, Physiology or Medicine, 1973\\nKarl von Frisch*, Physiology or Medicine, 1973\\nMax Perutz, Chemistry, 1962\\nCarl Ferdinand Cori, born in Austria, Physiology or Medicine, 1947\\nGerty Cori, born in Austria, Physiology or Medicine, 1947\\nWolfgang Pauli, Physics, 1945\\nRichard Kuhn*, Chemistry, 1938\\nOtto Loewi, born in Germany, Physiology or Medicine, 1936\\nVictor Francis Hess, Physics, 1936\\nErwin Schrödinger, Physics, 1933\\nKarl Landsteiner, Physiology or Medicine, 1930\\nJulius Wagner-Jauregg, Physiology or Medicine, 1927\\nFritz Pregl, born in Austria-Hungary, now Slovenia, Chemistry, 1923\\nAlfred Hermann Fried, Peace, 1911\\nBertha von Suttner, born in the Austrian Empire, now Czech Republic, Peace, 1905\\nVladimir Prelog*, Resided in what is now Croatia, born in Condominium of Bosnia and Herzegovina, Austro-Hungarian Empire (now Bosnia and Herzegovina), Chemistry, 1975\\nLeopold Ružička*, Resided in what is now Croatia, born in the Kingdom of Croatia-Slavonia part of Kingdom of Hungary in Austro-Hungarian Empire (now Croatia), Chemistry, 1939\\nIvo Andrić*, Born in Condominium of Bosnia and Herzegovina, Austro-Hungarian Empire (now Bosnia and Herzegovina), Ethnic Croat, Literature, 1961'),\n",
       " ('Bangladesh', 'Muhammad Yunus, Peace, 2006'),\n",
       " ('Belarus',\n",
       "  'Ales Bialiatski, Peace, 2022\\nSvetlana Alexievich, born in Ukraine, Literature, 2015\\nZhores Alferov*, Physics, 2000'),\n",
       " ('Belgium',\n",
       "  'François Englert, Physics, 2013\\nIlya Prigogine, born in Russia, Chemistry, 1977\\nChristian de Duve, born in the United Kingdom, Physiology or Medicine, 1974\\nAlbert Claude, Physiology or Medicine, 1974\\nDominique Pire, Peace, 1958\\nCorneille Heymans, Physiology or Medicine, 1938\\nJules Bordet, Physiology or Medicine, 1919\\nHenri La Fontaine, Peace, 1913\\nMaurice Maeterlinck, Literature, 1911\\nAuguste Beernaert, Peace, 1909\\nInstitut de Droit International, Peace, 1904'),\n",
       " ('Bosnia and Herzegovina',\n",
       "  'Vladimir Prelog*, born in Condominium of Bosnia and Herzegovina, Austro-Hungarian Empire (now Bosnia and Herzegovina), Chemistry, 1975\\nIvo Andric, born in Condominium of Bosnia and Herzegovina, Austro-Hungarian Empire, now Bosnia and Herzegovina, Literature, 1961'),\n",
       " ('Brazil', 'Peter Brian Medawar*, Physiology or Medicine, 1960'),\n",
       " ('Bulgaria', 'Elias Canetti*, Literature, 1981'),\n",
       " ('Canada',\n",
       "  'David Card, Economics, 2021\\nJim Peebles, Physics, 2019\\nDonna Strickland, Physics, 2018\\nArthur B. McDonald, Physics, 2015\\nAlice Munro, Literature, 2013\\nRalph M. Steinman, Physiology or Medicine, 2011\\nWillard S. Boyle*, Physics, 2009\\nJack W. Szostak, born in the United Kingdom, Physiology or Medicine, 2009\\nRobert Mundell, Economics, 1999\\nMyron Scholes*, Economics, 1997\\nWilliam Vickrey*, Economics, 1996\\nPugwash Conferences on Science and World Affairs, Peace, 1995\\nBertram Brockhouse, Physics, 1994\\nMichael Smith, born in the United Kingdom, Chemistry, 1993\\nRudolph A. Marcus*, Chemistry, 1992\\nRichard E. Taylor, Physics, 1990\\nSidney Altman*, Chemistry, 1989\\nJohn Polanyi, born in Germany, Chemistry, 1986\\nHenry Taube*, Chemistry, 1983\\nDavid H. Hubel*, Physiology or Medicine, 1981\\nSaul Bellow*, Literature, 1976\\nGerhard Herzberg, born in Germany, Chemistry, 1971\\nCharles B. Huggins*, Physiology or Medicine, 1966\\nLester B. Pearson, Peace, 1957\\nWilliam Giauque*, Chemistry, 1949\\nFrederick Banting, Physiology or Medicine, 1923\\nJohn Macleod, born in the United Kingdom of Great Britain and Ireland, Physiology or Medicine, 1923'),\n",
       " ('Chile',\n",
       "  'Pablo Neruda, Literature, 1971\\nGabriela Mistral, Literature, 1945'),\n",
       " (\"China (People's Republic of China)\",\n",
       "  'Tu Youyou, Physiology or Medicine, 2015\\nMo Yan, Literature, 2012\\nLiu Xiaobo, Peace, 2010\\nCharles K. Kao*, Physics, 2009\\nGao Xingjian*, Literature, 2000\\nDaniel C. Tsui*, Physics, 1998\\nChen-Ning Yang*, Physics, 1957\\nTsung-Dao Lee*, Physics, 1957'),\n",
       " ('Colombia',\n",
       "  'Juan Manuel Santos Calderón, Peace, 2016\\nGabriel García Márquez, Literature, 1982'),\n",
       " ('Congo, Democratic Republic', 'Denis Mukwege, Peace, 2018'),\n",
       " ('Costa Rica', 'Óscar Arias Sánchez, Peace, 1987'),\n",
       " ('Croatia',\n",
       "  'Vladimir Prelog*,  Resided in what is now Croatia, born in Condominium of Bosnia and Herzegovina, Austro-Hungarian Empire (now Bosnia and Herzegovina), Chemistry, 1975\\nLeopold Ružička*, Resided in what is now Croatia, born in the Kingdom of Croatia-Slavonia part of Kingdom of Hungary in Austro-Hungarian Empire (now Croatia), Chemistry, 1939'),\n",
       " ('Cyprus', 'Christopher A. Pissarides*, Economics, 2010'),\n",
       " ('Czech Republic',\n",
       "  'Peter Grünberg*, born in the Protectorate of Bohemia and Moravia, (now Czech Republic), Physics, 2007\\nJaroslav Seifert, born in Prague, Austria-Hungary, (now Czech Republic), Literature, 1984\\nJaroslav Heyrovský, born in Prague, Austria-Hungary, (now Czech Republic), Chemistry, 1959\\nCarl Ferdinand Cori*, born in Prague, Austria-Hungary, (now Czech Republic), Physiology or Medicine, 1947\\nGerty Cori*, born in Prague, Austria-Hungary, (now Czech Republic), Physiology or Medicine, 1947\\nBertha von Suttner*, born in Prague, Austria-Hungary, (now Czech Republic), Peace, 1905'),\n",
       " ('Denmark',\n",
       "  'Morten P. Meldal, Chemistry, 2022\\nJens Christian Skou, Chemistry, 1997\\nNiels Kaj Jerne, born in United Kingdom, Physiology or Medicine, 1984\\nAage Bohr, Physics, 1975\\nBen Roy Mottelson,  born in United States, Physics, 1975\\nJohannes V. Jensen, Literature, 1944\\nHenrik Dam, Physiology or Medicine, 1943\\nJohannes Fibiger, Physiology or Medicine, 1926\\nNiels Bohr, Physics, 1922\\nAugust Krogh, Physiology or Medicine, 1920\\nKarl Adolph Gjellerup, Literature, 1917\\nHenrik Pontoppidan, Literature, 1917\\nFredrik Bajer, Peace, 1908\\nNiels Ryberg Finsen, born in Faroe Islands, Physiology or Medicine, 1903'),\n",
       " ('East Timor',\n",
       "  'Carlos Filipe Ximenes Belo, Peace, 1996\\nJosé Ramos-Horta, Peace, 1996'),\n",
       " ('Egypt',\n",
       "  'Mohamed ElBaradei, Peace, 2005\\nAhmed Zewail, Chemistry, 1999\\nNaguib Mahfouz, Literature, 1988\\nAnwar Sadat, Peace, 1978'),\n",
       " ('Ethiopia', 'Abiy Ahmed Ali, Peace, 2019'),\n",
       " ('Faroe Islands', 'Niels Ryberg Finsen*, Physiology or Medicine, 1903'),\n",
       " ('Finland',\n",
       "  'Bengt R. Holmström, Economics, 2016\\nMartti Ahtisaari, Peace, 2008\\nRagnar Granit, born in the Grand Duchy of Finland, a part of the Russian Empire in 1809–1917, Physiology or Medicine, 1967\\nArtturi Ilmari Virtanen, born in the Grand Duchy of Finland, a part of the Russian Empire in 1809–1917, Chemistry, 1945\\nFrans Eemil Sillanpää, born in the Grand Duchy of Finland, a part of the Russian Empire in 1809–1917, Literature, 1939'),\n",
       " ('France',\n",
       "  \"Moungi Bawendi, Chemistry, 2023\\nPierre Agostini, born in Tunisia, Physics, 2023\\nAnne L'Huillier, Physics, 2023\\nAnnie Ernaux, Literature, 2022\\nAlain Aspect, Physics, 2022\\nEmmanuelle Charpentier, Chemistry, 2020\\nEsther Duflo, Economics, 2019\\nGérard Mourou, Physics, 2018\\nJean-Pierre Sauvage, Chemistry, 2016\\nJean Tirole, Economics, 2014\\nPatrick Modiano, Literature, 2014\\nSerge Haroche, born in Morocco, then under French protectorate, Physics, 2012\\nJules A. Hoffmann, born in Luxembourg, Physiology or Medicine, 2011\\nJ. M. G. Le Clézio, Literature, 2008\\nLuc Montagnier, Physiology or Medicine, 2008\\nFrançoise Barré-Sinoussi, Physiology or Medicine, 2008\\nAlbert Fert, Physics, 2007\\nYves Chauvin, Chemistry, 2005\\nGao Xingjian, born in China, Literature, 2000\\nMédecins Sans Frontières, Peace, 1999\\nClaude Cohen-Tannoudji, born in French Algeria, Physics, 1997\\nGeorges Charpak, born in then Poland (Second Polish Republic), now Ukraine, Physics, 1992\\nPierre-Gilles de Gennes, Physics, 1991\\nMaurice Allais, Economics, 1988\\nJean-Marie Lehn, Chemistry, 1987\\nClaude Simon, Literature, 1985\\nGérard Debreu, Economics, 1983\\nJean Dausset, Physiology or Medicine, 1980\\nRoger Guillemin*, Physiology or Medicine, 1977\\nSeán MacBride*, Peace, 1974\\nLouis Néel, Physics, 1970\\nLuis Federico Leloir*, Chemistry, 1970\\nRené Cassin, Peace, 1968\\nAlfred Kastler, Physics, 1966\\nFrançois Jacob, Physiology or Medicine, 1965\\nJacques Monod, Physiology or Medicine, 1965\\nAndré Lwoff, Physiology or Medicine, 1965\\nJean-Paul Sartre, Literature, 1964 (declined the prize)\\nSaint-John Perse, Literature, 1960\\nAlbert Camus, born in French Algeria, Literature, 1957\\nAndré Frédéric Cournand, Physiology or Medicine, 1956\\nFrançois Mauriac, Literature, 1952\\nAlbert Schweitzer, born in Alsace, then in Germany, Peace, 1952\\nLéon Jouhaux, Peace, 1951\\nAndré Gide, Literature, 1947\\nRoger Martin du Gard, Literature, 1937\\nFrédéric Joliot-Curie, Chemistry, 1935\\nIrène Joliot-Curie, Chemistry, 1935\\nIvan Bunin, born in Russia, Literature, 1933\\nLouis de Broglie, Physics, 1929\\nCharles Nicolle, Physiology or Medicine, 1928\\nHenri Bergson, Literature, 1927\\nFerdinand Buisson, Peace, 1927\\nAristide Briand, Peace, 1926\\nJean Baptiste Perrin, Physics, 1926\\nAnatole France, Literature, 1921\\nLéon Bourgeois, Peace, 1920\\nRomain Rolland, Literature, 1915\\nAlfred Werner*, Chemistry, 1913\\nCharles Richet, Physiology or Medicine, 1913\\nAlexis Carrel, Physiology or Medicine, 1912\\nPaul Sabatier, Chemistry, 1912\\nVictor Grignard, Chemistry, 1912\\nMarie Curie, born in Congress Poland (Russian Empire), Chemistry, 1911\\nPaul-Henri-Benjamin d'Estournelles de Constant, Peace, 1909\\nGabriel Lippmann, born in Luxembourg, Physics, 1908\\nCharles Louis Alphonse Laveran, Physiology or Medicine, 1907\\nLouis Renault, Peace, 1907\\nHenri Moissan, Chemistry, 1906\\nFrédéric Mistral, Literature, 1904\\nAntoine Henri Becquerel, Physics, 1903\\nPierre Curie, Physics, 1903\\nMarie Curie, born in Congress Poland, (Russian Empire), Physics, 1903\\nHenry Dunant, born in the Swiss Confederation, Peace, 1901\\nFrédéric Passy, Peace, 1901\\nSully Prudhomme, Literature, 1901\"),\n",
       " ('Germany',\n",
       "  'Svante Pääbo, born in Sweden, Physiology or Medicine, 2022\\nBenjamin List, Chemistry, 2021\\nKlaus Hasselmann, Physics, 2021\\nEmmanuelle Charpentier*, Chemistry, 2020\\nReinhard Genzel, Physics, 2020\\nJohn B. Goodenough*, Chemistry, 2019\\nJoachim Frank*, Chemistry, 2017\\nRainer Weiss*, Physics, 2017\\nStefan Hell, born in Romania, Chemistry, 2014\\nThomas C. Südhof, Physiology or Medicine, 2013\\nHerta Müller, born in Romania, Literature, 2009\\nHarald zur Hausen, Physiology or Medicine, 2008\\nGerhard Ertl, Chemistry, 2007\\nPeter Grünberg, born in the Protectorate of Bohemia and Moravia, now the Czech Republic, Physics, 2007\\nTheodor W. Hänsch, Physics, 2005\\nWolfgang Ketterle, Physics, 2001\\nHerbert Kroemer, Physics, 2000\\nGünter Blobel*, Physiology or Medicine, 1999\\nGünter Grass, born in Free City of Danzig, now Poland, Literature, 1999\\nHorst L. Störmer, Physics, 1998\\nPaul J. Crutzen, Chemistry, 1995\\nChristiane Nüsslein-Volhard, Physiology or Medicine, 1995\\nReinhard Selten, Economics, 1994\\nBert Sakmann, Physiology or Medicine, 1991\\nErwin Neher, Physiology or Medicine, 1991\\nHans G. Dehmelt*, Physics, 1989\\nWolfgang Paul, Physics, 1989\\nJohann Deisenhofer, Chemistry, 1988\\nRobert Huber, Chemistry, 1988\\nHartmut Michel, Chemistry, 1988\\nJack Steinberger*, Physics, 1988\\nJ. Georg Bednorz, Physics, 1987\\nJohn Polanyi*, Chemistry, 1986\\nErnst Ruska, Physics, 1986\\nGerd Binnig, Physics, 1986\\nKlaus von Klitzing, Physics, 1985\\nGeorges J.F. Köhler*, Physiology or Medicine, 1984\\nGeorg Wittig, Chemistry, 1979\\nArno Penzias*, Physics, 1978\\nHenry Kissinger*, Peace, 1978\\nErnst Otto Fischer, Chemistry, 1973\\nKarl von Frisch, born in Austria-Hungary, now Austria, Physiology or Medicine, 1973\\nHeinrich Böll, Literature, 1972\\nGerhard Herzberg*, Chemistry, 1971\\nWilly Brandt, Peace, 1971\\nBernard Katz*, Physiology or Medicine, 1970\\nMax Delbrück*, Physiology or Medicine, 1969\\nManfred Eigen, Chemistry, 1967\\nHans Bethe*, Physics, 1967\\nNelly Sachs*, Literature, 1966\\nFeodor Felix Konrad Lynen, Physiology or Medicine, 1964\\nKonrad Bloch*, Physiology or Medicine, 1964\\nKarl Ziegler, Chemistry, 1963\\nMaria Goeppert-Mayer*, Physics, 1963\\nJ. Hans D. Jensen, Physics, 1963\\nRudolf Mössbauer, Physics, 1961\\nWerner Forssmann, Physiology or Medicine, 1956\\nPolykarp Kusch*, Physics, 1955\\nMax Born*, Physics, 1954\\nWalther Bothe, Physics, 1954\\nHermann Staudinger, Chemistry, 1953\\nFritz Albert Lipmann*, Physiology or Medicine, 1953\\nHans Adolf Krebs*, Physiology or Medicine, 1953\\nAlbert Schweitzer*, Peace, 1952\\nOtto Diels, Chemistry, 1950\\nKurt Alder, Chemistry, 1950\\nHermann Hesse*, Literature, 1946\\nErnst Boris Chain*, Physiology or Medicine, 1945\\nOtto Hahn, Chemistry, 1944\\nOtto Stern*, Physics, 1943\\nAdolf Butenandt, Chemistry, 1939\\nGerhard Domagk, Physiology or Medicine, 1939\\nRichard Kuhn, born in Austria-Hungary, now Austria, Chemistry, 1938\\nOtto Loewi*, Physiology or Medicine, 1936\\nCarl von Ossietzky, Peace, 1935\\nHans Spemann, Physiology or Medicine, 1935\\nWerner Karl Heisenberg, Physics, 1932\\nOtto Heinrich Warburg, Physiology or Medicine, 1931\\nCarl Bosch, Chemistry, 1931\\nFriedrich Bergius, Chemistry, 1931\\nHans Fischer, Chemistry, 1930\\nThomas Mann, Literature, 1929\\nHans von Euler-Chelpin*, Chemistry, 1929\\nAdolf Otto Reinhold Windaus, Chemistry, 1928\\nLudwig Quidde, Peace, 1927\\nHeinrich Otto Wieland, Chemistry, 1927\\nGustav Stresemann, Peace, 1926\\nJames Franck, Physics, 1925\\nGustav Ludwig Hertz, Physics, 1925\\nOtto Fritz Meyerhof, Physiology or Medicine, 1922\\nAlbert Einstein, Physics, 1921\\nWalther Nernst, Chemistry, 1920\\nJohannes Stark, Physics, 1919\\nFritz Haber, Chemistry, 1918\\nMax Karl Ernst Ludwig Planck, Physics, 1918\\nRichard Willstätter, Chemistry, 1915\\nMax von Laue, Physics, 1914\\nGerhart Hauptmann, born in Prussia, now Poland, Literature, 1912\\nWilhelm Wien, Physics, 1911\\nOtto Wallach, Chemistry, 1910\\nAlbrecht Kossel, Physiology or Medicine, 1910\\nPaul Johann Ludwig Heyse, Literature, 1910\\nKarl Ferdinand Braun, Physics, 1909\\nWilhelm Ostwald, born in Russia, now Latvia, Chemistry, 1909\\nRudolf Christoph Eucken, Literature, 1908\\nPaul Ehrlich, Physiology or Medicine, 1908\\nEduard Buchner, Chemistry, 1907\\nRobert Koch, Physiology or Medicine, 1905\\nPhilipp Lenard, born in Pressburg, Kingdom of Hungary, Austrian Empire, now Slovakia, Physics, 1905\\nAdolf von Baeyer, Chemistry, 1905\\nHermann Emil Fischer, Chemistry, 1902\\nTheodor Mommsen, born in Duchy of Schleswig, Literature, 1902\\nEmil Adolf von Behring, Physiology or Medicine, 1901\\nWilhelm Conrad Röntgen, Physics, 1901'),\n",
       " ('Ghana', 'Kofi Annan, Peace, 2001'),\n",
       " ('Greece',\n",
       "  'Odysseas Elytis, Literature, 1979\\nGiorgos Seferis, born in then Ottoman Empire, now Turkey, Literature, 1963'),\n",
       " ('Guatemala',\n",
       "  'Rigoberta Menchú, Peace, 1992\\nMiguel Ángel Asturias, Literature, 1967'),\n",
       " ('Hong Kong', 'Charles K. Kao, Physics, 2009'),\n",
       " ('Hungary',\n",
       "  'Ferenc Krausz, Physics, 2023\\nKatalin Karikó, Physiology or Medicine, 2023\\nFerenc Herskó*, as an Israeli citizen, Chemistry, 2004\\nImre Kertész, Literature, 2002\\nGyörgy András Oláh, Chemistry, 1994\\nJános Harsányi, Economics, 1994\\nJános Polányi, born in Germany, Chemistry, 1986\\nDénes Gábor, Physics, 1971\\nJenő Pál Wigner, Physics, 1963\\nGyörgy Békésy, Physiology or Medicine, 1961\\nGyörgy Hevesy, Chemistry, 1943\\nAlbert Szent-Györgyi, Physiology or Medicine, 1937\\nRichárd Zsigmondy, Chemistry, 1925\\nRóbert Bárány, born in Austria, Physiology or Medicine, 1914\\nFülöp Lénárd, Physics, 1905'),\n",
       " ('Iceland', 'Halldór Laxness, Literature, 1955'),\n",
       " ('India',\n",
       "  \"Abhijit Banerjee*, Economics, 2019\\nKailash Satyarthi, Peace, 2014\\nVenkatraman Ramakrishnan*, Chemistry, 2009\\nV. S. Naipaul*, Literature, 2001\\nAmartya Sen, Economics, 1998\\nSubramanyan Chandrasekhar*, Physics, 1983\\nMother Teresa, born in then Ottoman Empire, now North Macedonia, Peace, 1979\\nHar Gobind Khorana*, Physiology or Medicine, 1968\\nC. V. Raman , Physics, 1930\\nRabindranath Tagore ', Literature, 1913\"),\n",
       " ('Iran', 'Narges Mohammadi, Peace, 2023\\nShirin Ebadi, Peace, 2003'),\n",
       " ('Iraq', 'Nadia Murad, Peace, 2018'),\n",
       " ('Ireland',\n",
       "  'William C. Campbell, Physiology or Medicine, 2015\\nJohn Hume, Peace, 1998\\nDavid Trimble, Peace, 1998\\nSéamus Heaney, Literature, 1995\\nMairead Corrigan, Peace, 1976\\nBetty Williams, Peace, 1976\\nSeán MacBride, born in France, Peace, 1974\\nSamuel Beckett, Literature, 1969\\nErnest Walton, Physics, 1951\\nGeorge Bernard Shaw*, Literature, 1925\\nW. B. Yeats, Literature, 1923'),\n",
       " ('Israel',\n",
       "  'Joshua Angrist, born in the United States, Economics, 2021\\nArieh Warshel, Chemistry, 2013\\nMichael Levitt, born in South Africa, Chemistry, 2013\\nDan Shechtman, Chemistry, 2011\\nAda Yonath, Chemistry, 2009\\nRobert Aumann, born in Germany, moved to Israel from the United States, Economics, 2005\\nAaron Ciechanover, Chemistry, 2004\\nAvram Hershko, born in Hungary, Chemistry, 2004\\nDaniel Kahneman*, Economics, 2002\\nYitzhak Rabin, Peace, 1994\\nShimon Peres, born in Poland, now Belarus, Peace, 1994\\nMenachem Begin, born in Russia, now Belarus, Peace, 1978\\nShmuel Yosef Agnon, born in Austria-Hungary, now Ukraine, Literature, 1966'),\n",
       " ('Italy',\n",
       "  'Giorgio Parisi, Physics, 2021\\nMario R. Capecchi*, Physiology or Medicine, 2007\\nRiccardo Giacconi*, Physics, 2002\\nDario Fo, Literature, 1997\\nRita Levi-Montalcini, Physiology or Medicine, 1986\\nFranco Modigliani*, Economics, 1985\\nCarlo Rubbia, Physics, 1984\\nEugenio Montale, Literature, 1975\\nRenato Dulbecco*, Physiology or Medicine, 1975\\nSalvador Luria*, Physiology or Medicine, 1969\\nGiulio Natta, Chemistry, 1963\\nEmilio Segrè*, Physics, 1959\\nSalvatore Quasimodo, Literature, 1959\\nDaniel Bovet, born in Switzerland, Physiology or Medicine, 1957\\nEnrico Fermi, Physics, 1938\\nLuigi Pirandello, Literature, 1934\\nGrazia Deledda, Literature, 1926\\nGuglielmo Marconi, Physics, 1909\\nErnesto Teodoro Moneta, Peace, 1907\\nCamillo Golgi, Physiology or Medicine, 1906\\nGiosuè Carducci, Literature, 1906'),\n",
       " ('Japan',\n",
       "  'Syukuro Manabe*, Physics, 2021\\nAkira Yoshino, Chemistry, 2019\\nTasuku Honjo, Physiology or Medicine, 2018\\nKazuo Ishiguro*, Literature, 2017\\nYoshinori Ohsumi, Physiology or Medicine, 2016\\nTakaaki Kajita, Physics, 2015\\nSatoshi Ōmura, Physiology or Medicine, 2015\\nShuji Nakamura*, Physics, 2014\\nHiroshi Amano, Physics, 2014\\nIsamu Akasaki, Physics, 2014\\nShinya Yamanaka, Physiology or Medicine, 2012\\nAkira Suzuki, Chemistry, 2010\\nEi-ichi Negishi, Born in China, Chemistry, 2010\\nOsamu Shimomura, Chemistry, 2008\\nToshihide Maskawa, Physics, 2008\\nMakoto Kobayashi, Physics, 2008\\nYoichiro Nambu*, Physics, 2008\\nKoichi Tanaka, Chemistry, 2002\\nMasatoshi Koshiba, Physics, 2002\\nRyōji Noyori, Chemistry, 2001\\nHideki Shirakawa, Chemistry, 2000\\nKenzaburō Ōe, Literature, 1994\\nSusumu Tonegawa, Physiology or Medicine, 1987\\nKenichi Fukui, Chemistry, 1981\\nEisaku Satō, Peace, 1974\\nLeo Esaki, Physics, 1973\\nYasunari Kawabata, Literature, 1968\\nSin-Itiro Tomonaga, Physics, 1965\\nHideki Yukawa, Physics, 1949'),\n",
       " ('Kenya', 'Wangari Maathai, Peace, 2004'),\n",
       " ('Lebanon', 'Ardem Patapoutian*, Physiology or Medicine, 2021'),\n",
       " ('Latvia', 'Wilhelm Ostwald*, Chemistry, 1909[8]'),\n",
       " ('Liberia', 'Ellen Johnson Sirleaf, Peace, 2011\\nLeymah Gbowee, Peace, 2011'),\n",
       " ('Lithuania', 'Aaron Klug*, Chemistry, 1982'),\n",
       " ('Luxembourg',\n",
       "  'Jules A. Hoffmann*, Physiology or Medicine, 2011\\nGabriel Lippmann*, Physics, 1908'),\n",
       " ('Mexico',\n",
       "  'Mario José Molina Henríquez*, Chemistry, 1995\\nOctavio Paz Lozano, Literature, 1990\\nAlfonso García Robles, Peace, 1982'),\n",
       " ('Myanmar (Burma)', 'Aung San Suu Kyi, Peace, 1991'),\n",
       " ('Morocco',\n",
       "  'Serge Haroche*, Physics, 2012; a French citizen as per his Wikipedia page'),\n",
       " ('Netherlands',\n",
       "  \"Guido Imbens, Economics, 2021\\nBen Feringa, Chemistry, 2016\\nOrganisation for the Prohibition of Chemical Weapons, Peace, 2013\\nAndre Geim, born in Soviet Union, now Russia, Physics, 2010\\nMartinus J. G. Veltman, Physics, 1999\\nGerard 't Hooft, Physics, 1999\\nPaul J. Crutzen, Chemistry, 1995\\nSimon van der Meer, Physics, 1984\\nNicolaas Bloembergen*, Physics, 1981\\nTjalling C. Koopmans, Economics, 1975\\nNikolaas Tinbergen*, Physiology or Medicine, 1973\\nJan Tinbergen, Economics, 1969\\nFrits Zernike, Physics, 1953\\nPeter Debye, Chemistry, 1936\\nChristiaan Eijkman, Physiology or Medicine, 1929\\nWillem Einthoven, Physiology or Medicine, 1924\\nHeike Kamerlingh Onnes, Physics, 1913\\nTobias Asser, Peace, 1911\\nJohannes Diderik van der Waals, Physics, 1910\\nPieter Zeeman, Physics, 1902\\nHendrik Lorentz, Physics, 1902\\nJacobus Henricus van 't Hoff, Chemistry, 1901\"),\n",
       " ('New Zealand',\n",
       "  'Alan MacDiarmid, Chemistry, 2000\\nMaurice Wilkins, Physiology or Medicine, 1962\\nErnest Rutherford*, Chemistry, 1908'),\n",
       " ('Nigeria', 'Wole Soyinka, Literature, 1986'),\n",
       " ('North Macedonia',\n",
       "  'Mother Teresa*, born in then Ottoman Empire, now North Macedonia, Peace, 1979'),\n",
       " ('Norway',\n",
       "  'Jon Fosse, Literature, 2023\\nMay-Britt Moser, Physiology or Medicine, 2014\\nEdvard Moser, Physiology or Medicine, 2014\\nFinn E. Kydland, Economics, 2004\\nTrygve Haavelmo, Economics, 1989\\nIvar Giaever, Physics, 1973\\nRagnar Frisch, Economics, 1969\\nOdd Hassel, Chemistry, 1969\\nLars Onsager, Chemistry, 1968\\nSigrid Undset, Literature, 1928\\nFridtjof Nansen, Peace, 1922\\nChristian Lous Lange, Peace, 1921\\nKnut Hamsun, Literature, 1920\\nBjørnstjerne Bjørnson, Literature, 1903'),\n",
       " ('Pakistan', 'Abdus Salam, Physics, 1979\\nMalala Yousafzai, Peace, 2014'),\n",
       " ('Palestine', 'Yasser Arafat, Born in Cairo, Egypt, Peace, 1994'),\n",
       " ('Peru', 'Mario Vargas Llosa*, Literature, 2010'),\n",
       " ('Philippines', 'Maria Ressa, Peace, 2021'),\n",
       " ('Poland',\n",
       "  'Olga Tokarczuk, Literature, 2018\\nLeonid Hurwicz*, born in then Russian Republic (now Russia), Economics, 2007\\nWisława Szymborska, Literature, 1996\\nJoseph Rotblat*, born in Congress Poland (Russian Empire), Peace, 1995\\nShimon Peres*, as an Israeli citizen, Peace, 1994\\nGeorges Charpak*, born in Dąbrowica Poland (now in Ukraine), Physics, 1992\\nLech Wałęsa, born in Popowo, Reichsgau Danzig-West Prussia, Germany (today  Poland), Peace, 1983\\nRoald Hoffmann*, born in Złoczów Poland (now in Ukraine), Chemistry, 1981\\nCzesław Miłosz*, born in Russian Empire, now Lithuania, Literature, 1980\\nIsaac Bashevis Singer*, born in Congress Poland (Russian Empire), Literature, 1978\\nMenachem Begin*, as an Israeli citizen, he also had Polish citizenship, Peace, 1978\\nAndrew Schally*, born in Vilnius, Poland (now Vilnius, Lithuania), Physiology or Medicine, 1977\\nTadeusz Reichstein*, born in Congress Poland (Russian Empire), Physiology or Medicine, 1950\\nIsidor Isaac Rabi*, born in Rymanów, Austria-Hungary (now in Poland), Physics, 1944\\nWładysław Reymont, born in Congress Poland (Russian Empire), Literature, 1924\\nMarie Skłodowska-Curie, born in Congress Poland (Russian Empire), Chemistry, 1911\\nAlbert A. Michelson*, born in Strelno, North German Confederation (now in Poland), Physics, 1907\\nHenryk Sienkiewicz, born in Congress Poland (Russian Empire), Literature, 1905\\nMarie Skłodowska-Curie, born in Congress Poland (Russian Empire), Physics, 1903'),\n",
       " ('Portugal',\n",
       "  'José Saramago, Literature, 1998\\nAntónio Egas Moniz, Physiology or Medicine, 1949'),\n",
       " ('Romania',\n",
       "  'Stefan Hell*, Chemistry, 2014\\nHerta Müller*, Literature, 2009\\nElie Wiesel*, Peace, 1986\\nGeorge E. Palade*, Physiology or Medicine, 1974'),\n",
       " ('Russia and Soviet Union',\n",
       "  'Alexei Ekimov, Chemistry, 2023\\nMemorial, Peace, 2022\\nDmitry Muratov, Peace, 2021\\nAndre Geim*, Physics, 2010\\nKonstantin Novoselov*, Physics, 2010\\nLeonid Hurwicz*, Economics, 2007\\nAlexei Alexeyevich Abrikosov*, Physics, 2003\\nVitaly Ginzburg, Physics, 2003\\nZhores Alferov, born in then Soviet Union, now Belarus, Physics, 2000\\nMikhail Gorbachev, Peace, 1990\\nJoseph Brodsky, born in Russia, Literature, 1987\\nPyotr Kapitsa, Physics, 1978\\nMenachem Begin*, as an Israeli citizen, Peace, 1978\\nIlya Prigogine*, Chemistry, 1977\\nAndrei Sakharov, Peace, 1975\\nLeonid Kantorovich, Economics, 1975\\nSimon Kuznets, now Belarus, Economics, 1971\\nAleksandr Solzhenitsyn, Literature, 1970\\nMikhail Sholokhov, Literature, 1965\\nNikolay Basov, Physics, 1964\\nAlexander Prokhorov, born in Australia, Physics, 1964\\nLev Landau, born in then Russian Empire, now Azerbaijan, laureate when citizen of the Soviet Union, Physics, 1962\\nBoris Pasternak, Literature, 1958 (forced to decline)\\nPavel Cherenkov, Physics, 1958\\nIgor Tamm, Physics, 1958\\nIlya Mikhailovich Frank, Physics, 1958\\nNikolay Semyonov, Chemistry, 1956\\nIvan Bunin*, Literature, 1933\\nÉlie Metchnikoff, born in now Ukraine, Physiology or Medicine, 1908\\nIvan Pavlov, Physiology or Medicine, 1904'),\n",
       " ('Saint Lucia',\n",
       "  'Derek Walcott, Literature, 1992\\nW. Arthur Lewis*, Economics, 1979'),\n",
       " ('Slovenia',\n",
       "  'Friderik Pregl*, born in Austria-Hungary, now Slovenia, Chemistry, 1923'),\n",
       " ('South Africa',\n",
       "  'Michael Levitt*, Chemistry, 2013\\nJ. M. Coetzee, Literature, 2003\\nSydney Brenner*, Physiology or Medicine, 2002\\nF. W. de Klerk, Peace, 1993\\nNelson Mandela, Peace, 1993\\nNadine Gordimer, Literature, 1991\\nDesmond Tutu, Peace, 1984\\nAaron Klug*, Chemistry, 1982\\nAllan M. Cormack*, Physiology or Medicine, 1979\\nAlbert Lutuli, born in then Rhodesia, now Zimbabwe, Peace, 1960\\nMax Theiler, Physiology or Medicine, 1951'),\n",
       " ('South Korea', 'Kim Dae-jung, Peace, 2000'),\n",
       " ('Spain',\n",
       "  'Mario Vargas Llosa, born in Peru, Literature, 2010\\nCamilo José Cela, Literature, 1989\\nVicente Aleixandre, Literature, 1977\\nSevero Ochoa*, Physiology or Medicine, 1959\\nJuan Ramón Jiménez, Literature, 1956\\nJacinto Benavente, Literature, 1922\\nSantiago Ramón y Cajal, Physiology or Medicine, 1906\\nJosé Echegaray, Literature, 1904'),\n",
       " ('Sweden',\n",
       "  \"Anne L'Huillier, born in France, Physics, 2023\\nSvante Pääbo, Physiology or Medicine, 2022\\nTomas Lindahl, Chemistry, 2015\\nTomas Tranströmer, Literature, 2011\\nArvid Carlsson, Physiology or Medicine, 2000\\nAlva Myrdal, Peace, 1982\\nSune Bergström, Physiology or Medicine, 1982\\nBengt I. Samuelsson, Physiology or Medicine, 1982\\nKai Siegbahn, Physics, 1981\\nTorsten Wiesel, Physiology or Medicine, 1981\\nBertil Ohlin, Economics, 1977\\nEyvind Johnson, Literature, 1974\\nHarry Martinson, Literature, 1974\\nGunnar Myrdal, Economics, 1974\\nUlf von Euler, Physiology or Medicine, 1970\\nHannes Alfvén, Physics, 1970\\nRagnar Granit, born in the Grand Duchy of Finland, then a part of Russia, Physiology or Medicine, 1967\\nNelly Sachs, born in Germany, Literature, 1966\\nDag Hammarskjöld, Peace, 1961 (posthumously)\\nHugo Theorell, Physiology or Medicine, 1955\\nPär Lagerkvist, Literature, 1951\\nArne Tiselius, Chemistry, 1948\\nErik Axel Karlfeldt, Literature, 1931 (posthumously)\\nNathan Söderblom, Peace, 1930\\nHans von Euler-Chelpin, born in Germany, Chemistry, 1929\\nTheodor Svedberg, Chemistry, 1926\\nKarl Manne Siegbahn, Physics, 1924\\nHjalmar Branting, Peace, 1921\\nCarl Gustaf Verner von Heidenstam, Literature, 1916\\nGustaf Dalén, Physics, 1912\\nAllvar Gullstrand, Physiology or Medicine, 1911\\nSelma Lagerlöf, Literature, 1909\\nKlas Pontus Arnoldson, Peace, 1908\\nSvante Arrhenius, Chemistry, 1903\"),\n",
       " ('Switzerland',\n",
       "  'Michel Mayor, Physics, 2019\\nDidier Queloz, Physics, 2019\\nJacques Dubochet, Chemistry, 2017\\nKurt Wüthrich, Chemistry, 2002\\nRolf M. Zinkernagel, Physiology or Medicine, 1996\\nEdmond H. Fischer, Physiology or Medicine, 1992\\nRichard R. Ernst, Chemistry, 1991\\nKarl Alexander Müller, Physics, 1987\\nHeinrich Rohrer, Physics, 1986\\nWerner Arber, Physiology or Medicine, 1978\\nDaniel Bovet, Physiology or Medicine, 1957\\nFelix Bloch, Physics, 1952\\nTadeusz Reichstein, Physiology or Medicine, 1950\\nWalter Rudolf Hess, Physiology or Medicine, 1949\\nPaul Hermann Müller, Physiology or Medicine, 1948\\nHermann Hesse, born in Germany, Literature, 1946\\nPaul Karrer, Chemistry, 1937\\nAlbert Einstein, born in Germany, Physics, 1921\\nCharles Édouard Guillaume, Physics, 1920\\nCarl Spitteler, Literature, 1919\\nAlfred Werner, Chemistry, 1913\\nTheodor Kocher, Physiology or Medicine, 1909\\nÉlie Ducommun, Peace, 1902\\nCharles Albert Gobat, Peace, 1902\\nHenry Dunant, Peace, 1901\\nVladimir Prelog*,  Resided in what is now Croatia, born in Condominium of Bosnia and Herzegovina, Austro-Hungarian Empire (now Bosnia and Herzegovina), Chemistry, 1975\\nLeopold Ružička*, Resided in what is now Croatia, born in the Kingdom of Croatia-Slavonia part of Kingdom of Hungary in Austro-Hungarian Empire (now Croatia), Chemistry, 1939'),\n",
       " ('Taiwan',\n",
       "  'Yuan T. Lee, Chemistry, 1986\\nSamuel C. C. Ting, Physics, 1976\\nChen-Ning Yang*, Physics, 1957\\nTsung-Dao Lee*, Physics, 1957'),\n",
       " ('Tanzania', 'Abdulrazak Gurnah*, Literature, 2021'),\n",
       " ('Tibet', '14th Dalai Lama, Peace, 1989'),\n",
       " ('Trinidad and Tobago', 'V. S. Naipaul*, Literature, 2001'),\n",
       " ('Tunisia',\n",
       "  'Moungi Bawendi, born in France, Chemistry, 2023\\nTunisian National Dialogue Quartet, Peace, 2015'),\n",
       " ('Turkey', 'Aziz Sancar, Chemistry, 2015\\nOrhan Pamuk, Literature, 2006'),\n",
       " ('Ukraine',\n",
       "  'Centre for Civil Liberties, Peace, 2022\\nSvetlana Alexievich*, born in Ukraine, Literature, 2015\\nSelman Waksman*, born in Ukraine, Physiology or Medicine, 1952\\nIlya Ilyich Mechnikov, Physiology or Medicine, 1908'),\n",
       " ('United Kingdom',\n",
       "  \"Abdulrazak Gurnah, born in Tanzania, Literature, 2021\\nDavid MacMillan, Chemistry, 2021\\nRoger Penrose, Physics, 2020\\nMichael Houghton, Physiology or Medicine, 2020\\nPeter J. Ratcliffe, Physiology or Medicine, 2019\\nM. Stanley Whittingham, Chemistry, 2019\\nGreg Winter, Chemistry, 2018\\nKazuo Ishiguro, born in Japan, Literature, 2017\\nRichard Henderson, Chemistry, 2017\\nOliver Hart, Economics, 2016\\nFraser Stoddart, Chemistry, 2016\\nDavid J. Thouless, Physics, 2016\\nF. Duncan M. Haldane, Physics, 2016\\nJohn M. Kosterlitz, Physics, 2016\\nAngus Deaton, Economics, 2015\\nTomas Lindahl, born in Sweden, Chemistry, 2015\\nJohn O'Keefe, born in the United States, Physiology or Medicine, 2014\\nMichael Levitt, born in South Africa, Chemistry, 2013\\nPeter Higgs, Physics, 2013\\nJohn B. Gurdon, Physiology or Medicine, 2012\\nChristopher A. Pissarides, born in Cyprus, Economics, 2010\\nKonstantin Novoselov, born in Russia, Physics, 2010\\nRobert G. Edwards, Physiology or Medicine, 2010\\nCharles K. Kao, Physics, 2009\\nVenkatraman Ramakrishnan, born in India, Chemistry, 2009\\nJack W. Szostak, born in United Kingdom, Physiology or Medicine, 2009\\nDoris Lessing, born in Iran, Literature, 2007\\nSir Martin J. Evans, Physiology or Medicine, 2007\\nOliver Smithies*, Physiology or Medicine, 2007\\nHarold Pinter, Literature, 2005\\nClive W. J. Granger, Economics, 2003\\nAnthony J. Leggett*, Physics, 2003\\nPeter Mansfield, Physiology or Medicine, 2003\\nSydney Brenner, born in South Africa, Physiology or Medicine, 2002\\nJohn E. Sulston, Physiology or Medicine, 2002\\nTim Hunt, Physiology or Medicine, 2001\\nPaul Nurse, Physiology or Medicine, 2001\\nV. S. Naipaul, born in Trinidad, Literature, 2001\\nDavid Trimble, Peace, 1998\\nJohn Pople, Chemistry, 1998\\nJohn E. Walker, Chemistry, 1997\\nHarold Kroto, Chemistry, 1996\\nJames A. Mirrlees, Economics, 1996\\nJoseph Rotblat, born in then Russian Empire, now Poland, Peace, 1995\\nRichard J. Roberts, Physiology or Medicine, 1993\\nMichael Smith*, Chemistry, 1993\\nRonald Coase, based in the United States, Economics, 1991\\nJames W. Black, Physiology or Medicine, 1988\\nCésar Milstein, born in Argentina, Physiology or Medicine, 1984\\nRichard Stone, Economics, 1984\\nWilliam Golding, Literature, 1983\\nAaron Klug, born in Lithuania, Chemistry, 1982\\nJohn Robert Vane, Physiology or Medicine, 1982\\nElias Canetti, born in Bulgaria, Literature, 1981\\nFrederick Sanger, Chemistry, 1980\\nW. Arthur Lewis, born on St. Lucia, Economics, 1979\\nGodfrey Hounsfield, Physiology or Medicine, 1979\\nPeter D. Mitchell, Chemistry, 1978\\nJames Meade, Economics, 1977\\nNevill Francis Mott, Physics, 1977\\nAmnesty International, Peace, 1977\\nMairead Corrigan, Peace, 1976\\nBetty Williams, Peace, 1976\\nJohn Cornforth, born in Australia, Chemistry, 1975\\nChristian de Duve*, Physiology or Medicine, 1974\\nFriedrich Hayek, born in Austria, Economics, 1974\\nMartin Ryle, Physics, 1974\\nAntony Hewish, Physics, 1974\\nPatrick White*, Literature, 1973\\nGeoffrey Wilkinson, Chemistry, 1973\\nBrian David Josephson, Physics, 1973\\nNikolaas Tinbergen, born in the Netherlands, Physiology or Medicine, 1973\\nRodney Robert Porter, Physiology or Medicine, 1972\\nJohn Hicks, Economics, 1972\\nDennis Gabor, born in Hungary, Physics, 1971\\nBernard Katz, born in Germany, Physiology or Medicine, 1970\\nDerek Harold Richard Barton, Chemistry, 1969\\nRonald George Wreyford Norrish, Chemistry, 1967\\nGeorge Porter, Chemistry, 1967\\nDorothy Crowfoot Hodgkin, Chemistry, 1964\\nAndrew Huxley, Physiology or Medicine, 1963\\nAlan Lloyd Hodgkin, Physiology or Medicine, 1963\\nJohn Kendrew, Chemistry, 1962\\nMax Perutz, born in Austria, Chemistry, 1962\\nFrancis Crick, Physiology or Medicine, 1962\\nMaurice Wilkins, born in New Zealand, Physiology or Medicine, 1962\\nPeter Medawar, born in Brazil, Physiology or Medicine, 1960\\nPhilip Noel-Baker, Peace, 1959\\nFrederick Sanger, Chemistry, 1958\\nAlexander R. Todd, Baron Todd, Chemistry, 1957\\nCyril Norman Hinshelwood, Chemistry, 1956\\nMax Born, born in then Germany, now Poland, Physics, 1954\\nWinston Churchill, Literature, 1953\\nHans Adolf Krebs, born in Germany, Physiology or Medicine, 1953\\nArcher John Porter Martin, Chemistry, 1952\\nRichard Laurence Millington Synge, Chemistry, 1952\\nJohn Cockcroft, Physics, 1951\\nBertrand Russell, Literature, 1950\\nCecil Frank Powell, Physics, 1950\\nJohn Boyd Orr, Peace, 1949\\nT. S. Eliot, born in the United States, Literature, 1948\\nPatrick Blackett, Baron Blackett, Physics, 1948\\nEdward Victor Appleton, Physics, 1947\\nRobert Robinson, Chemistry, 1947\\nFriends Service Council, Peace, 1947\\nErnst Boris Chain, born in Germany, Physiology or Medicine, 1945\\nAlexander Fleming, Physiology or Medicine, 1945\\nGeorge Paget Thomson, Physics, 1937\\nRobert Cecil, 1st Viscount Cecil of Chelwood, Peace, 1937\\nNorman Haworth, Chemistry, 1937\\nHenry Hallett Dale, Physiology or Medicine, 1936\\nJames Chadwick, Physics, 1935\\nArthur Henderson, Peace, 1934\\nNorman Angell, Peace, 1933\\nPaul Dirac, Physics, 1933\\nCharles Scott Sherrington, Physiology or Medicine, 1932\\nJohn Galsworthy, Literature, 1932\\nEdgar Adrian, 1st Baron Adrian, Physiology or Medicine, 1932\\nArthur Harden, Chemistry, 1929\\nFrederick Hopkins, Physiology or Medicine, 1929\\nOwen Willans Richardson, Physics, 1928\\nCharles Thomson Rees Wilson, Physics, 1927\\nAusten Chamberlain, Peace, 1925\\nGeorge Bernard Shaw, born in Ireland (Then part of the United Kingdom of Great Britain and Ireland), Literature, 1925\\nJohn Macleod*, Physiology or Medicine, 1923\\nArchibald Vivian Hill, Physiology or Medicine, 1922\\nFrancis William Aston, Chemistry, 1922\\nFrederick Soddy, Chemistry, 1921\\nCharles Glover Barkla, Physics, 1917\\nWilliam Henry Bragg, Physics, 1915\\nWilliam Lawrence Bragg, born in Australia, Physics, 1915\\nErnest Rutherford, born in New Zealand, Chemistry, 1908\\nRudyard Kipling, born in India, Literature, 1907\\nJ. J. Thomson, Physics, 1906\\nJohn Strutt, 3rd Baron Rayleigh, Physics, 1904\\nWilliam Ramsay, Chemistry, 1904\\nWilliam Randal Cremer, Peace, 1903\\nRonald Ross, born in India, Physiology or Medicine, 1902\"),\n",
       " ('United States',\n",
       "  \"Claudia Goldin, Economics, 2023\\nLouis Brus, Chemistry, 2023\\nMoungi Bawendi, born in France, Chemistry, 2023\\nAlexei Ekimov, born in former USSR, Chemistry, 2023\\nDrew Weissman, Physiology or Medicine, 2023\\nKatalin Karikó, born in Hungary, Physiology or Medicine, 2023\\nBen Bernanke, Economics, 2022\\nDouglas Diamond, Economics, 2022\\nPhilip H. Dybvig, Economics, 2022\\nCarolyn R. Bertozzi, Chemistry, 2022\\nK. Barry Sharpless, Chemistry, 2022\\nJohn Clauser, Physics, 2022\\nDavid Card, born in Canada, Economics, 2021\\nJoshua Angrist, Economics, 2021\\nGuido Imbens, born in Netherlands, Economics, 2021\\nMaria Ressa, born in Philippines, Peace, 2021\\nSyukuro Manabe, born in Japan, Physics, 2021\\nDavid MacMillan, born in United Kingdom, Chemistry, 2021\\nDavid Julius, Physiology or Medicine, 2021\\nArdem Patapoutian, born in Lebanon, Physiology or Medicine, 2021\\nRobert B. Wilson, Economics, 2020\\nPaul R. Milgrom, Economics, 2020\\nLouise Glück, Literature, 2020\\nJennifer Doudna, Chemistry, 2020\\nAndrea Ghez, Physics, 2020\\nHarvey J. Alter, Physiology or Medicine, 2020\\nCharles M. Rice, Physiology or Medicine, 2020\\nAbhijit Banerjee, born in India, Economics, 2019\\nEsther Duflo, born in France, Economics, 2019\\nMichael Kremer, Economics, 2019\\nJohn B. Goodenough, born in Germany, Chemistry, 2019\\nM. Stanley Whittingham, born in United Kingdom, Chemistry, 2019\\nJim Peebles, born in Canada, Physics, 2019\\nWilliam Kaelin Jr., Physiology or Medicine, 2019\\nGregg L. Semenza, Physiology or Medicine, 2019\\nPaul Romer, Economics, 2018\\nWilliam Nordhaus, Economics, 2018\\nGeorge P. Smith, Chemistry, 2018\\nFrances Arnold, Chemistry, 2018\\nArthur Ashkin, Physics, 2018\\nJames Allison, Physiology or Medicine, 2018\\nRichard H. Thaler, Economics, 2017\\nJoachim Frank, born in Germany, Chemistry, 2017\\nRainer Weiss, born in Germany, Physics, 2017\\nKip Thorne, Physics, 2017\\nBarry Barish, Physics, 2017\\nMichael W. Young, Physiology or Medicine, 2017\\nMichael Rosbash, Physiology or Medicine, 2017\\nJeffrey C. Hall, Physiology or Medicine, 2017\\nBob Dylan, Literature, 2016\\nOliver Hart, born in United Kingdom, Economics, 2016\\nFraser Stoddart, born in United Kingdom, Chemistry, 2016\\nF. Duncan M. Haldane, born in United Kingdom, Physics, 2016\\nJohn M. Kosterlitz, born in United Kingdom, Physics, 2016\\nAngus Deaton, born in United Kingdom, Economics, 2015\\nPaul L. Modrich, Chemistry, 2015\\nAziz Sancar, born in Turkey, Chemistry, 2015\\nWilliam C. Campbell, born in Ireland, Physiology or Medicine, 2015\\nWilliam E. Moerner, Chemistry, 2014\\nEric Betzig, Chemistry, 2014\\nShuji Nakamura, born in Japan, Physics, 2014\\nJohn O'Keefe*, Physiology or Medicine, 2014\\nRobert J. Shiller, Economics, 2013\\nLars Peter Hansen, Economics, 2013\\nEugene F. Fama, Economics, 2013\\nArieh Warshel, born in Israel, Chemistry, 2013\\nMichael Levitt, born in South Africa, Chemistry, 2013\\nMartin Karplus, born in Austria, Chemistry, 2013\\nRandy Schekman, Physiology or Medicine, 2013\\nThomas C. Südhof, born in Germany, Physiology or Medicine, 2013\\nJames Rothman, Physiology or Medicine, 2013\\nAlvin E. Roth, Economics, 2012\\nLloyd S. Shapley, Economics, 2012\\nBrian K. Kobilka, Chemistry, 2012\\nRobert J. Lefkowitz, Chemistry, 2012\\nDavid J. Wineland, Physics, 2012\\nChristopher A. Sims, Economics, 2011\\nThomas J. Sargent, Economics, 2011\\nSaul Perlmutter, Physics, 2011\\nBrian P. Schmidt, Physics, 2011\\nAdam G. Riess, Physics, 2011\\nRalph M. Steinman, born in Canada, Physiology or Medicine, 2011\\nBruce Beutler, Physiology or Medicine, 2011\\nPeter A. Diamond, Economics, 2010\\nDale T. Mortensen, Economics, 2010\\nEi-ichi Negishi, Japanese citizenship, Chemistry, 2010\\nRichard F. Heck, Chemistry, 2010\\nElinor Ostrom, Economics, 2009\\nOliver Eaton Williamson, Economics, 2009\\nBarack H. Obama, Peace, 2009\\nVenkatraman Ramakrishnan, born in India, Chemistry, 2009\\nThomas A. Steitz, Chemistry, 2009\\nWillard S. Boyle, born in Canada, Physics, 2009\\nCharles K. Kao, born in China, Physics, 2009\\nGeorge E. Smith, Physics, 2009\\nElizabeth Blackburn, born in Australia, Physiology or Medicine, 2009\\nCarol W. Greider, Physiology or Medicine, 2009\\nJack W. Szostak, born in United Kingdom, Physiology or Medicine, 2009\\nPaul Krugman, Economics, 2008\\nRoger Yonchien Tsien, Chemistry, 2008\\nMartin Chalfie, Chemistry, 2008\\nOsamu Shimomura, Japanese citizenship , Chemistry, 2008\\nYoichiro Nambu, born in Japan, Physics, 2008\\nLeonid Hurwicz, born in Russia, Economics, 2007\\nEric S. Maskin, Economics, 2007\\nRoger B. Myerson, Economics, 2007\\nAl Gore, Peace, 2007\\nMario R. Capecchi, born in Italy, Physiology or Medicine, 2007\\nOliver Smithies, born in United Kingdom, Physiology or Medicine, 2007\\nRoger D. Kornberg, Chemistry, 2006\\nJohn C. Mather, Physics, 2006\\nEdmund S. Phelps, Economics, 2006\\nGeorge F. Smoot, Physics, 2006\\nAndrew Z. Fire, Physiology or Medicine, 2006\\nCraig C. Mello, Physiology or Medicine, 2006\\nRobert Aumann*, as an Israeli citizen, Economics, 2005\\nRobert H. Grubbs, Chemistry, 2005\\nRichard R. Schrock, Chemistry, 2005\\nThomas Schelling, Economics, 2005\\nJohn L. Hall, Physics, 2005\\nRoy J. Glauber, Physics, 2005\\nIrwin Rose, Chemistry, 2004\\nEdward C. Prescott, Economics, 2004\\nDavid J. Gross, Physics, 2004\\nH. David Politzer, Physics, 2004\\nFrank Wilczek, Physics, 2004\\nRichard Axel, Physiology or Medicine, 2004\\nLinda B. Buck, Physiology or Medicine, 2004\\nPeter Agre, Chemistry, 2003\\nRoderick MacKinnon, Chemistry, 2003\\nRobert F. Engle, Economics, 2003\\nAnthony J. Leggett, born in United Kingdom, Physics, 2003\\nPaul C. Lauterbur, Physiology or Medicine, 2003\\nAlexei Alexeyevich Abrikosov, born in Russia, Physics, 2003\\nDaniel Kahneman, born in Israel, Economics, 2002\\nVernon L. Smith, Economics, 2002\\nJimmy Carter, Peace, 2002\\nJohn Bennett Fenn, Chemistry, 2002\\nRaymond Davis Jr., Physics, 2002\\nRiccardo Giacconi, born in Italy, Physics, 2002\\nSydney Brenner, born in South Africa, Physiology or Medicine, 2002\\nH. Robert Horvitz, Physiology or Medicine, 2002\\nWilliam S. Knowles, Chemistry, 2001\\nK. Barry Sharpless, Chemistry, 2001\\nJoseph E. Stiglitz, Economics, 2001\\nGeorge A. Akerlof, Economics, 2001\\nA. Michael Spence, Economics, 2001\\nEric A. Cornell, Physics, 2001\\nCarl E. Wieman, Physics, 2001\\nLeland H. Hartwell, Physiology or Medicine, 2001\\nAlan Heeger, Chemistry, 2000\\nAlan MacDiarmid, born in New Zealand, Chemistry, 2000\\nJames J. Heckman, Economics, 2000\\nDaniel L. McFadden, Economics, 2000\\nJack Kilby, Physics, 2000\\nPaul Greengard, Physiology or Medicine, 2000\\nEric Kandel, born in Austria, Physiology or Medicine, 2000\\nAhmed H. Zewail, born in Egypt, Chemistry, 1999\\nGünter Blobel, born in then Germany, now Poland, Physiology or Medicine, 1999\\nWalter Kohn, born in Austria, Chemistry, 1998\\nHorst Ludwig Störmer, born in Germany, Physics, 1998\\nRobert B. Laughlin, Physics, 1998\\nDaniel C. Tsui, born in China, Physics, 1998\\nRobert F. Furchgott, Physiology or Medicine, 1998\\nLouis J. Ignarro, Physiology or Medicine, 1998\\nFerid Murad, Physiology or Medicine, 1998\\nPaul D. Boyer, Chemistry, 1997\\nRobert C. Merton, Economics, 1997\\nMyron Scholes, born in Canada, Economics, 1997\\nJody Williams, Peace, 1997\\nSteven Chu, Physics, 1997\\nWilliam D. Phillips, Physics, 1997\\nStanley B. Prusiner, Physiology or Medicine, 1997\\nRichard E. Smalley, Chemistry, 1996\\nRobert F. Curl Jr., Chemistry, 1996\\nWilliam Vickrey, born in Canada, Economics, 1996\\nDavid M. Lee, Physics, 1996\\nDouglas D. Osheroff, Physics, 1996\\nRobert C. Richardson, Physics, 1996\\nMario J. Molina, born in Mexico, Chemistry, 1995\\nF. Sherwood Rowland, Chemistry, 1995\\nRobert Lucas Jr., Economics, 1995\\nMartin L. Perl, Physics, 1995\\nFrederick Reines, Physics, 1995\\nEdward B. Lewis, Physiology or Medicine, 1995\\nEric F. Wieschaus, Physiology or Medicine, 1995\\nGeorge Andrew Olah, born in Hungary, Chemistry, 1994\\nJohn Harsanyi, born in Hungary, Economics, 1994\\nJohn Forbes Nash, Economics, 1994\\nClifford G. Shull, Physics, 1994\\nAlfred G. Gilman, Physiology or Medicine, 1994\\nMartin Rodbell, Physiology or Medicine, 1994\\nKary B. Mullis, Chemistry, 1993\\nRobert W. Fogel, Economics, 1993\\nDouglass C. North, Economics, 1993\\nToni Morrison, Literature, 1993\\nRussell A. Hulse, Physics, 1993\\nJoseph H. Taylor Jr., Physics, 1993\\nPhillip A. Sharp, Physiology or Medicine, 1993\\nRudolph A. Marcus, born in Canada, Chemistry, 1992\\nGary S. Becker, Economics, 1992\\nEdmond H. Fischer, born in China, Physiology or Medicine, 1992\\nEdwin G. Krebs, Physiology or Medicine, 1992\\nRonald Coase, born in the United Kingdom, Economics, 1991\\nElias James Corey, Chemistry, 1990\\nMerton H. Miller, Economics, 1990\\nWilliam F. Sharpe, Economics, 1990\\nHarry M. Markowitz, Economics, 1990\\nJerome I. Friedman, Physics, 1990\\nHenry W. Kendall, Physics, 1990\\nJoseph E. Murray, Physiology or Medicine, 1990\\nE. Donnall Thomas, Physiology or Medicine, 1990\\nSidney Altman, born in Canada, Chemistry, 1989\\nThomas R. Cech, Chemistry, 1989\\nHans G. Dehmelt, born in Germany, Physics, 1989\\nNorman F. Ramsey, Physics, 1989\\nJ. Michael Bishop, Physiology or Medicine, 1989\\nHarold E. Varmus, Physiology or Medicine, 1989\\nLeon M. Lederman, Physics, 1988\\nMelvin Schwartz, Physics, 1988\\nJack Steinberger, born in Germany, Physics, 1988\\nGertrude B. Elion, Physiology or Medicine, 1988\\nGeorge H. Hitchings, Physiology or Medicine, 1988\\nCharles J. Pedersen, born in Korea, Chemistry, 1987\\nDonald J. Cram, Chemistry, 1987\\nRobert M. Solow, Economics, 1987\\nJoseph Brodsky, born in Russia, Literature, 1987\\nDudley R. Herschbach, Chemistry, 1986\\nYuan T. Lee, born in Taiwan, Chemistry, 1986\\nJames M. Buchanan, Economics, 1986\\nElie Wiesel, born in Romania, Peace, 1986\\nStanley Cohen, Physiology or Medicine, 1986\\nRita Levi-Montalcini, born in Italy, Physiology or Medicine, 1986\\nJerome Karle, Chemistry, 1985\\nHerbert A. Hauptman, Chemistry, 1985\\nFranco Modigliani, born in Italy, Economics, 1985\\nMichael S. Brown, Physiology or Medicine, 1985\\nJoseph L. Goldstein, Physiology or Medicine, 1985\\nBruce Merrifield, Chemistry, 1984\\nHenry Taube, born in Canada, Chemistry, 1983\\nGérard Debreu, born in France, Economics, 1983\\nWilliam A. Fowler, Physics, 1983\\nSubrahmanyan Chandrasekhar, born in India, Physics, 1983\\nBarbara McClintock, Physiology or Medicine, 1983\\nGeorge J. Stigler, Economics, 1982\\nKenneth G. Wilson, Physics, 1982\\nRoald Hoffmann, born in then Poland, now Ukraine, Chemistry, 1981\\nJames Tobin, Economics, 1981\\nNicolaas Bloembergen, born in the Netherlands, Physics, 1981\\nArthur L. Schawlow, Physics, 1981\\nDavid H. Hubel, born in Canada, Physiology or Medicine, 1981\\nRoger W. Sperry, Physiology or Medicine, 1981\\nWalter Gilbert, Chemistry, 1980\\nPaul Berg, Chemistry, 1980\\nLawrence R. Klein, Economics, 1980\\nCzesław Miłosz, born in then Russian Empire, now Lithuania, Literature, 1980\\nJames Cronin, Physics, 1980\\nVal Fitch, Physics, 1980\\nBaruj Benacerraf, born in Venezuela, Physiology or Medicine, 1980\\nGeorge D. Snell, Physiology or Medicine, 1980\\nHerbert C. Brown, born in the United Kingdom, Chemistry, 1979\\nTheodore Schultz, Economics, 1979\\nSteven Weinberg, Physics, 1979\\nSheldon Glashow, Physics, 1979\\nAllan M. Cormack, born in South Africa, Physiology or Medicine, 1979\\nHerbert A. Simon, Economics, 1978\\nIsaac Bashevis Singer, born in then Russian Empire, now Poland, Literature, 1978\\nRobert Woodrow Wilson, Physics, 1978\\nArno Penzias, born in Germany, Physics, 1978\\nHamilton O. Smith, Physiology or Medicine, 1978\\nDaniel Nathans, Physiology or Medicine, 1978\\nPhilip Anderson, Physics, 1977\\nJohn H. van Vleck, Physics, 1977\\nRoger Guillemin, born in France, Physiology or Medicine, 1977\\nAndrew Schally, born in then Poland, now Lithuania, Physiology or Medicine, 1977\\nRosalyn Yalow, Physiology or Medicine, 1977\\nWilliam Lipscomb, Chemistry, 1976\\nMilton Friedman, Economics, 1976\\nSaul Bellow, born in Canada, Literature, 1976\\nBurton Richter, Physics, 1976\\nSamuel C. C. Ting, Physics, 1976\\nBaruch S. Blumberg, Physiology or Medicine, 1976\\nDaniel Carleton Gajdusek, Physiology or Medicine, 1976\\nTjalling C. Koopmans, born in the Netherlands, Economics, 1975\\nBen Roy Mottelson*, Physics, 1975\\nJames Rainwater, Physics, 1975\\nDavid Baltimore, Physiology or Medicine, 1975\\nRenato Dulbecco, born in Italy, Physiology or Medicine, 1975\\nHoward Martin Temin, Physiology or Medicine, 1975\\nPaul J. Flory, Chemistry, 1974\\nGeorge E. Palade, born in Romania, Physiology or Medicine, 1974\\nWassily Leontief, born in Germany, Economics, 1973\\nHenry Kissinger, born in Germany, Peace, 1973\\nIvar Giaever, Norway, Physics, 1973\\nChristian Anfinsen, Chemistry, 1972\\nStanford Moore, Chemistry, 1972\\nWilliam H. Stein, Chemistry, 1972\\nKenneth J. Arrow, Economics, 1972\\nJohn Bardeen, Physics, 1972\\nLeon N. Cooper, Physics, 1972\\nRobert Schrieffer, Physics, 1972\\nGerald Edelman, Physiology or Medicine, 1972\\nSimon Kuznets, born in then Russia, now Belarus, Economics, 1971\\nEarl W. Sutherland Jr., Physiology or Medicine, 1971\\nPaul A. Samuelson, Economics, 1970\\nNorman Borlaug, Peace, 1970\\nJulius Axelrod, Physiology or Medicine, 1970\\nMurray Gell-Mann, Physics, 1969\\nMax Delbrück, born in Germany, Physiology or Medicine, 1969\\nAlfred Hershey, Physiology or Medicine, 1969\\nSalvador Luria, born in Italy, Physiology or Medicine, 1969\\nLars Onsager, born in Norway, Chemistry, 1968\\nLuis Alvarez, Physics, 1968\\nRobert W. Holley, Physiology or Medicine, 1968\\nHar Gobind Khorana, born in India, Physiology or Medicine, 1968\\nMarshall Warren Nirenberg, Physiology or Medicine, 1968\\nHans Bethe, born in then Germany, now France, Physics, 1967\\nHaldan Keffer Hartline, Physiology or Medicine, 1967\\nGeorge Wald, Physiology or Medicine, 1967\\nRobert S. Mulliken, Chemistry, 1966\\nCharles B. Huggins, born in Canada, Physiology or Medicine, 1966\\nFrancis Peyton Rous, Physiology or Medicine, 1966\\nRobert B. Woodward, Chemistry, 1965\\nRichard P. Feynman, Physics, 1965\\nJulian Schwinger, Physics, 1965\\nMartin Luther King Jr., Peace, 1964\\nCharles H. Townes, Physics, 1964\\nKonrad Bloch, born in then Germany, now Poland, Physiology or Medicine, 1964\\nMaria Goeppert-Mayer, born in then Germany, now Poland, Physics, 1963\\nEugene Wigner, born in Hungary, Physics, 1963\\nJohn Steinbeck, Literature, 1962\\nLinus C. Pauling, Peace, 1962\\nJames D. Watson, Physiology or Medicine, 1962\\nMelvin Calvin, Chemistry, 1961\\nRobert Hofstadter, Physics, 1961\\nGeorg von Békésy, born in Hungary, Physiology or Medicine, 1961\\nWillard F. Libby, Chemistry, 1960\\nDonald A. Glaser, Physics, 1960\\nOwen Chamberlain, Physics, 1959\\nEmilio Segrè, born in Italy, Physics, 1959\\nArthur Kornberg, Physiology or Medicine, 1959\\nSevero Ochoa, born in Spain, Physiology or Medicine, 1959\\nGeorge Beadle, Physiology or Medicine, 1958\\nJoshua Lederberg, Physiology or Medicine, 1958\\nEdward Tatum, Physiology or Medicine, 1958\\nChen Ning Yang, born in China, Physics, 1957\\nTsung-Dao Lee, born in China, Physics, 1957\\nWilliam B. Shockley, Physics, 1956\\nJohn Bardeen, Physics, 1956\\nWalter H. Brattain, born in China, Physics, 1956\\nDickinson W. Richards, Physiology or Medicine, 1956\\nAndré F. Cournand, France, Physiology or Medicine, 1956\\nVincent du Vigneaud, Chemistry, 1955\\nWillis E. Lamb, Physics, 1955\\nPolykarp Kusch, born in Germany, Physics, 1955\\nLinus C. Pauling, Chemistry, 1954\\nErnest Hemingway, Literature, 1954\\nJohn F. Enders, Physiology or Medicine, 1954\\nFrederick C. Robbins, Physiology or Medicine, 1954\\nThomas H. Weller, Physiology or Medicine, 1954\\nGeorge C. Marshall, Peace, 1953\\nFritz Albert Lipmann, born in then Germany, now Russia, Physiology or Medicine, 1953\\nE. M. Purcell, Physics, 1952\\nFelix Bloch, born in Switzerland, Physics, 1952\\nSelman A. Waksman, born in then Russian Empire, now Ukraine, Physiology or Medicine, 1952\\nEdwin M. McMillan, Chemistry, 1951\\nGlenn Theodore Seaborg, Chemistry, 1951\\nRalph J. Bunche, Peace, 1950\\nPhilip S. Hench, Physiology or Medicine, 1950\\nEdward C. Kendall, Physiology or Medicine, 1950\\nWilliam Giauque, born in Canada, Chemistry, 1949\\nWilliam Faulkner, Literature, 1949\\nT. S. Eliot*, Literature, 1948\\nAmerican Friends Service Committee (The Quakers), Peace, 1947\\nCarl Ferdinand Cori, born in Austria, Physiology or Medicine, 1947\\nGerty Cori, born in Austria, Physiology or Medicine, 1947\\nWendell M. Stanley, Chemistry, 1946\\nJames B. Sumner, Chemistry, 1946\\nJohn H. Northrop, Chemistry, 1946\\nEmily G. Balch, Peace, 1946\\nJohn R. Mott, Peace, 1946\\nPercy W. Bridgman, Physics, 1946\\nHermann J. Muller, Physiology or Medicine, 1946\\nCordell Hull, Peace, 1945\\nIsidor Isaac Rabi, born in Austria, Physics, 1944\\nJoseph Erlanger, Physiology or Medicine, 1944\\nHerbert S. Gasser, Physiology or Medicine, 1944\\nOtto Stern, born in then Germany, now Poland, Physics, 1943\\nEdward A. Doisy, Physiology or Medicine, 1943\\nErnest Lawrence, Physics, 1939\\nPearl S. Buck, Literature, 1938\\nClinton Davisson, Physics, 1937\\nEugene O'Neill, Literature, 1936\\nCarl Anderson, Physics, 1936\\nHarold C. Urey, Chemistry, 1934\\nGeorge R. Minot, Physiology or Medicine, 1934\\nWilliam P. Murphy, Physiology or Medicine, 1934\\nGeorge H. Whipple, Physiology or Medicine, 1934\\nThomas H. Morgan, Physiology or Medicine, 1933\\nIrving Langmuir, Chemistry, 1932\\nJane Addams, Peace, 1931\\nNicholas M. Butler, Peace, 1931\\nSinclair Lewis, Literature, 1930\\nFrank B. Kellogg, Peace, 1929\\nArthur H. Compton, Physics, 1927\\nCharles G. Dawes, Peace, 1925\\nRobert A. Millikan, Physics, 1923\\nWoodrow Wilson, Peace, 1919\\nTheodore W. Richards, Chemistry, 1914\\nElihu Root, Peace, 1912\\nAlbert A. Michelson, born in then Germany, now Poland, Physics, 1907\\nTheodore Roosevelt, Peace, 1906\"),\n",
       " ('Venezuela', 'Baruj Benacerraf*, Physiology or Medicine, 1980'),\n",
       " ('Vietnam', 'Lê Đức Thọ, born in French Indochina, Peace, 1973 (declined)'),\n",
       " ('Yemen', 'Tawakkol Karman, Peace, 2011'),\n",
       " ('Yugoslavia',\n",
       "  'Ivo Andrić, born in the Condominium of Bosnia and Herzegovina, Austria-Hungary (now Bosnia and Herzegovina), Literature, 1961')]"
      ]
     },
     "execution_count": 14,
     "metadata": {},
     "output_type": "execute_result"
    }
   ],
   "source": [
    "list(zip(CountryList, LaureateCountryList))"
   ]
  },
  {
   "cell_type": "code",
   "execution_count": 15,
   "metadata": {},
   "outputs": [],
   "source": [
    "LaureateCountryDF = pd.DataFrame([{\"Country\": x[0], \"Data\": x[1]} for x in zip(CountryList, LaureateCountryList)])"
   ]
  },
  {
   "cell_type": "code",
   "execution_count": 16,
   "metadata": {},
   "outputs": [
    {
     "data": {
      "text/html": [
       "<div>\n",
       "<style scoped>\n",
       "    .dataframe tbody tr th:only-of-type {\n",
       "        vertical-align: middle;\n",
       "    }\n",
       "\n",
       "    .dataframe tbody tr th {\n",
       "        vertical-align: top;\n",
       "    }\n",
       "\n",
       "    .dataframe thead th {\n",
       "        text-align: right;\n",
       "    }\n",
       "</style>\n",
       "<table border=\"1\" class=\"dataframe\">\n",
       "  <thead>\n",
       "    <tr style=\"text-align: right;\">\n",
       "      <th></th>\n",
       "      <th>Country</th>\n",
       "      <th>Data</th>\n",
       "    </tr>\n",
       "  </thead>\n",
       "  <tbody>\n",
       "    <tr>\n",
       "      <th>0</th>\n",
       "      <td>Argentina</td>\n",
       "      <td>César Milstein*, Physiology or Medicine, 1984\\...</td>\n",
       "    </tr>\n",
       "    <tr>\n",
       "      <th>1</th>\n",
       "      <td>Armenia</td>\n",
       "      <td>Ardem Patapoutian, born in Lebanon, Physiology...</td>\n",
       "    </tr>\n",
       "    <tr>\n",
       "      <th>2</th>\n",
       "      <td>Australia</td>\n",
       "      <td>Brian Schmidt, born in the United States, Phys...</td>\n",
       "    </tr>\n",
       "    <tr>\n",
       "      <th>3</th>\n",
       "      <td>Austria</td>\n",
       "      <td>Anton Zeilinger, Physics, 2022\\nPeter Handke, ...</td>\n",
       "    </tr>\n",
       "    <tr>\n",
       "      <th>4</th>\n",
       "      <td>Bangladesh</td>\n",
       "      <td>Muhammad Yunus, Peace, 2006</td>\n",
       "    </tr>\n",
       "  </tbody>\n",
       "</table>\n",
       "</div>"
      ],
      "text/plain": [
       "      Country                                               Data\n",
       "0   Argentina  César Milstein*, Physiology or Medicine, 1984\\...\n",
       "1     Armenia  Ardem Patapoutian, born in Lebanon, Physiology...\n",
       "2   Australia  Brian Schmidt, born in the United States, Phys...\n",
       "3     Austria  Anton Zeilinger, Physics, 2022\\nPeter Handke, ...\n",
       "4  Bangladesh                        Muhammad Yunus, Peace, 2006"
      ]
     },
     "execution_count": 16,
     "metadata": {},
     "output_type": "execute_result"
    }
   ],
   "source": [
    "LaureateCountryDF.head()"
   ]
  },
  {
   "cell_type": "code",
   "execution_count": 17,
   "metadata": {},
   "outputs": [],
   "source": [
    "TempDf = LaureateCountryDF.Data.str.split(\"\\n\", expand=True)"
   ]
  },
  {
   "cell_type": "code",
   "execution_count": 18,
   "metadata": {},
   "outputs": [],
   "source": [
    "TempDf[\"Country\"] = LaureateCountryDF.Country"
   ]
  },
  {
   "cell_type": "code",
   "execution_count": 19,
   "metadata": {},
   "outputs": [],
   "source": [
    "TempDf = TempDf.set_index(\"Country\").stack().reset_index().drop(columns=[\"level_1\"]).rename({0: \"Laureate\"}, axis=\"columns\")"
   ]
  },
  {
   "cell_type": "code",
   "execution_count": 20,
   "metadata": {},
   "outputs": [],
   "source": [
    "Country_Of_Birth = ~TempDf.Laureate.str.contains(\"born\")"
   ]
  },
  {
   "cell_type": "code",
   "execution_count": 21,
   "metadata": {},
   "outputs": [],
   "source": [
    "Country = TempDf.Country"
   ]
  },
  {
   "cell_type": "code",
   "execution_count": 22,
   "metadata": {},
   "outputs": [],
   "source": [
    "TempDf = TempDf.Laureate.str.extract(r\"(?P<Name>[^,\\n]+)(?:.+){0,4}, (?P<Field>Physiology or Medicine|Peace|Chemistry|Physics|Economics|Literature), (?P<Year>\\d{4})\")"
   ]
  },
  {
   "cell_type": "code",
   "execution_count": 23,
   "metadata": {},
   "outputs": [],
   "source": [
    "TempDf[\"Country\"] = Country"
   ]
  },
  {
   "cell_type": "code",
   "execution_count": 24,
   "metadata": {},
   "outputs": [],
   "source": [
    "TempDf.Name = TempDf.Name.str.replace(\"*\", \"\")"
   ]
  },
  {
   "cell_type": "code",
   "execution_count": 25,
   "metadata": {},
   "outputs": [],
   "source": [
    "TempDf[\"Country_Of_Birth\"] = Country_Of_Birth"
   ]
  },
  {
   "cell_type": "code",
   "execution_count": 26,
   "metadata": {},
   "outputs": [],
   "source": [
    "LaureateCountryDF = TempDf.copy()"
   ]
  },
  {
   "cell_type": "code",
   "execution_count": 27,
   "metadata": {},
   "outputs": [
    {
     "data": {
      "text/html": [
       "<div>\n",
       "<style scoped>\n",
       "    .dataframe tbody tr th:only-of-type {\n",
       "        vertical-align: middle;\n",
       "    }\n",
       "\n",
       "    .dataframe tbody tr th {\n",
       "        vertical-align: top;\n",
       "    }\n",
       "\n",
       "    .dataframe thead th {\n",
       "        text-align: right;\n",
       "    }\n",
       "</style>\n",
       "<table border=\"1\" class=\"dataframe\">\n",
       "  <thead>\n",
       "    <tr style=\"text-align: right;\">\n",
       "      <th></th>\n",
       "      <th>Name</th>\n",
       "      <th>Field</th>\n",
       "      <th>Year</th>\n",
       "      <th>Country</th>\n",
       "      <th>Country_Of_Birth</th>\n",
       "    </tr>\n",
       "  </thead>\n",
       "  <tbody>\n",
       "    <tr>\n",
       "      <th>0</th>\n",
       "      <td>César Milstein</td>\n",
       "      <td>Physiology or Medicine</td>\n",
       "      <td>1984</td>\n",
       "      <td>Argentina</td>\n",
       "      <td>True</td>\n",
       "    </tr>\n",
       "    <tr>\n",
       "      <th>1</th>\n",
       "      <td>Adolfo Pérez Esquivel</td>\n",
       "      <td>Peace</td>\n",
       "      <td>1980</td>\n",
       "      <td>Argentina</td>\n",
       "      <td>True</td>\n",
       "    </tr>\n",
       "    <tr>\n",
       "      <th>2</th>\n",
       "      <td>Luis Federico Leloir</td>\n",
       "      <td>Chemistry</td>\n",
       "      <td>1970</td>\n",
       "      <td>Argentina</td>\n",
       "      <td>False</td>\n",
       "    </tr>\n",
       "    <tr>\n",
       "      <th>3</th>\n",
       "      <td>Bernardo Houssay</td>\n",
       "      <td>Physiology or Medicine</td>\n",
       "      <td>1947</td>\n",
       "      <td>Argentina</td>\n",
       "      <td>True</td>\n",
       "    </tr>\n",
       "    <tr>\n",
       "      <th>4</th>\n",
       "      <td>Carlos Saavedra Lamas</td>\n",
       "      <td>Peace</td>\n",
       "      <td>1936</td>\n",
       "      <td>Argentina</td>\n",
       "      <td>True</td>\n",
       "    </tr>\n",
       "  </tbody>\n",
       "</table>\n",
       "</div>"
      ],
      "text/plain": [
       "                    Name                   Field  Year    Country  \\\n",
       "0         César Milstein  Physiology or Medicine  1984  Argentina   \n",
       "1  Adolfo Pérez Esquivel                   Peace  1980  Argentina   \n",
       "2   Luis Federico Leloir               Chemistry  1970  Argentina   \n",
       "3       Bernardo Houssay  Physiology or Medicine  1947  Argentina   \n",
       "4  Carlos Saavedra Lamas                   Peace  1936  Argentina   \n",
       "\n",
       "   Country_Of_Birth  \n",
       "0              True  \n",
       "1              True  \n",
       "2             False  \n",
       "3              True  \n",
       "4              True  "
      ]
     },
     "execution_count": 27,
     "metadata": {},
     "output_type": "execute_result"
    }
   ],
   "source": [
    "LaureateCountryDF.head()"
   ]
  },
  {
   "cell_type": "code",
   "execution_count": 29,
   "metadata": {},
   "outputs": [],
   "source": [
    "PhysiologyLaureates = LaureateCountryDF[LaureateCountryDF.Field == \"Physiology or Medicine\"]"
   ]
  },
  {
   "cell_type": "code",
   "execution_count": 33,
   "metadata": {},
   "outputs": [],
   "source": [
    "PhysiologyLaureatesMigrated = PhysiologyLaureates[PhysiologyLaureates.Country_Of_Birth == False]"
   ]
  },
  {
   "cell_type": "code",
   "execution_count": 95,
   "metadata": {},
   "outputs": [],
   "source": [
    "LaureateCounts = PhysiologyLaureatesMigrated.Country.value_counts()[:5]"
   ]
  },
  {
   "cell_type": "code",
   "execution_count": 145,
   "metadata": {},
   "outputs": [
    {
     "data": {
      "image/png": "[encoded data removed]",
      "text/plain": [
       "<Figure size 1000x1000 with 1 Axes>"
      ]
     },
     "metadata": {},
     "output_type": "display_data"
    }
   ],
   "source": [
    "plt.figure(figsize=(10, 10))\n",
    "bars = plt.bar(LaureateCounts.index, LaureateCounts.values, color=\"#bdbdbd\")\n",
    "bars[0].set_color(\"#3182bd\")\n",
    "plt.gca().bar_label(bars, LaureateCounts.values, label_type=\"edge\", padding=-20, fontweight=\"bold\", color=\"black\")\n",
    "plt.box(False)\n",
    "plt.title(\"Top 5 Migrants Destination For Nobel Winning Research in Physiology or Medicine\")\n",
    "plt.yticks([])\n",
    "plt.ylim((0,35))\n",
    "plt.show()"
   ]
  },
  {
   "cell_type": "code",
   "execution_count": 102,
   "metadata": {},
   "outputs": [],
   "source": [
    "ChemistryLaureate = LaureateCountryDF[(LaureateCountryDF.Field == \"Chemistry\") & (Country_Of_Birth == False)]"
   ]
  },
  {
   "cell_type": "code",
   "execution_count": 105,
   "metadata": {},
   "outputs": [],
   "source": [
    "ChemistryLaureateMigrated = ChemistryLaureate.Country.value_counts()[:5]"
   ]
  },
  {
   "cell_type": "code",
   "execution_count": 144,
   "metadata": {},
   "outputs": [
    {
     "data": {
      "image/png": "[encoded data removed]",
      "text/plain": [
       "<Figure size 1000x1000 with 1 Axes>"
      ]
     },
     "metadata": {},
     "output_type": "display_data"
    }
   ],
   "source": [
    "plt.figure(figsize=(10,10))\n",
    "rects = plt.bar(ChemistryLaureateMigrated.index, ChemistryLaureateMigrated.values, color=\"#bdbdbd\")\n",
    "rects[0].set_color(\"#3182bd\")\n",
    "plt.box(False)\n",
    "plt.yticks([])\n",
    "plt.bar_label(rects, ChemistryLaureateMigrated.values, padding=-25, color=\"black\", fontweight=\"bold\")\n",
    "plt.title(\"Top 5 Migrants Destination for Nobel Winning Research in Chemistry\")\n",
    "plt.show()"
   ]
  },
  {
   "cell_type": "code",
   "execution_count": 121,
   "metadata": {},
   "outputs": [],
   "source": [
    "PhysicsLaureates = LaureateCountryDF[(LaureateCountryDF.Field == \"Physics\") & (LaureateCountryDF.Country_Of_Birth == False)]"
   ]
  },
  {
   "cell_type": "code",
   "execution_count": null,
   "metadata": {},
   "outputs": [],
   "source": []
  },
  {
   "cell_type": "code",
   "execution_count": 133,
   "metadata": {},
   "outputs": [],
   "source": [
    "PhysicsLaureatesMigrated = PhysicsLaureates.Country.value_counts()[0:5]"
   ]
  },
  {
   "cell_type": "code",
   "execution_count": 134,
   "metadata": {},
   "outputs": [],
   "source": [
    "PhysicsLaureatesMigrated.rename({\"Russia and Soviet Union\": \"Russia\"}, inplace=True)"
   ]
  },
  {
   "cell_type": "code",
   "execution_count": 143,
   "metadata": {},
   "outputs": [
    {
     "data": {
      "image/png": "[encoded data removed]",
      "text/plain": [
       "<Figure size 1000x1000 with 1 Axes>"
      ]
     },
     "metadata": {},
     "output_type": "display_data"
    }
   ],
   "source": [
    "plt.figure(figsize=(10,10))\n",
    "rects = plt.bar(PhysicsLaureatesMigrated.index, PhysicsLaureatesMigrated.values, color=\"#bdbdbd\")\n",
    "rects[0].set_color(\"#3182bd\")\n",
    "plt.box(False)\n",
    "plt.yticks([])\n",
    "plt.bar_label(rects, PhysicsLaureatesMigrated.values, padding=-20, fontweight=\"bold\", color=\"black\")\n",
    "plt.title(\"Top 5 Migrants Destination For Nobel Winning Research in Physics\")\n",
    "plt.show()"
   ]
  },
  {
   "cell_type": "code",
   "execution_count": null,
   "metadata": {},
   "outputs": [],
   "source": []
  },
  {
   "cell_type": "code",
   "execution_count": null,
   "metadata": {},
   "outputs": [],
   "source": []
  }
 ],
 "metadata": {
  "kernelspec": {
   "display_name": "my_venv",
   "language": "python",
   "name": "python3"
  },
  "language_info": {
   "codemirror_mode": {
    "name": "ipython",
    "version": 3
   },
   "file_extension": ".py",
   "mimetype": "text/x-python",
   "name": "python",
   "nbconvert_exporter": "python",
   "pygments_lexer": "ipython3",
   "version": "3.12.3"
  }
 },
 "nbformat": 4,
 "nbformat_minor": 2
}
